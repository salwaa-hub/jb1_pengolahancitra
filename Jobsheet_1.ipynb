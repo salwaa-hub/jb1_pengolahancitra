{
  "nbformat": 4,
  "nbformat_minor": 0,
  "metadata": {
    "colab": {
      "provenance": [],
      "authorship_tag": "ABX9TyONxyz8nzCL2m615KaC728B",
      "include_colab_link": true
    },
    "kernelspec": {
      "name": "python3",
      "display_name": "Python 3"
    },
    "language_info": {
      "name": "python"
    }
  },
  "cells": [
    {
      "cell_type": "markdown",
      "metadata": {
        "id": "view-in-github",
        "colab_type": "text"
      },
      "source": [
        "<a href=\"https://colab.research.google.com/github/salwaa-hub/jb1_pengolahancitra/blob/main/Jobsheet_1.ipynb\" target=\"_parent\"><img src=\"https://colab.research.google.com/assets/colab-badge.svg\" alt=\"Open In Colab\"/></a>"
      ]
    },
    {
      "cell_type": "code",
      "execution_count": 2,
      "metadata": {
        "id": "-86uN3AX3MmC",
        "collapsed": true
      },
      "outputs": [],
      "source": [
        "import numpy as np\n",
        "import matplotlib.pyplot as plt\n",
        "from skimage import data"
      ]
    },
    {
      "cell_type": "code",
      "source": [
        "# Contoh gambar dari scikit-image\n",
        "gambar_coins = data.coins()\n",
        "gambar_camera = data.camera()\n",
        "gambar_astronaut = data.astronaut()\n",
        "# Fungsi untuk menghitung ukuran gambar dalam bit, byte, KB, MB\n",
        "def hitung_ukuran(image):\n",
        "  bit_per_pixel = 8 if len(image.shape) == 2 else 24  # Grayscale = 8 bit, RGB = 24 bit\n",
        "  total_pixels = image.shape[0] * image.shape[1]\n",
        "  total_bits = total_pixels * bit_per_pixel\n",
        "  total_bytes = total_bits / 8\n",
        "  total_kb = total_bytes / 1024\n",
        "  total_mb = total_kb / 1024\n",
        "  return total_bits, total_bytes, total_kb, total_mb"
      ],
      "metadata": {
        "id": "Zofy8ux76pQd"
      },
      "execution_count": 3,
      "outputs": []
    },
    {
      "cell_type": "code",
      "source": [
        "# Menyusun gambar dan ukurannya dalam satu baris\n",
        "fig, axes = plt.subplots(1, 3, figsize=(15, 5))"
      ],
      "metadata": {
        "id": "t04_Xe1k8WKh",
        "outputId": "ae1c818c-d4b1-49ab-87d8-9b4b7994da01",
        "colab": {
          "base_uri": "https://localhost:8080/",
          "height": 413
        }
      },
      "execution_count": 4,
      "outputs": [
        {
          "output_type": "display_data",
          "data": {
            "text/plain": [
              "<Figure size 1500x500 with 3 Axes>"
            ],
            "image/png": "[encoded data removed]"
          },
          "metadata": {}
        }
      ]
    },
    {
      "cell_type": "code",
      "source": [
        "# Daftar gambar dan nama\n",
        "gambar_list = [gambar_coins, gambar_camera, gambar_astronaut]\n",
        "nama_list = [\"Coins\", \"Camera\", \"Astronaut\"]"
      ],
      "metadata": {
        "id": "W7kx9aSV8i4z"
      },
      "execution_count": 5,
      "outputs": []
    },
    {
      "cell_type": "code",
      "source": [
        "for ax, img, nama in zip(axes, gambar_list, nama_list):\n",
        "  bits, bytes_, kb, mb = hitung_ukuran(img)\n",
        "  ax.imshow(img, cmap='gray' if len(img.shape) == 2 else None)\n",
        "ax.set_title(f\"{nama}\\n{bits} bit, {bytes_:.2f} B\\n{kb:.2f} KB, {mb:.4f} MB\")\n",
        "ax.axis('off')"
      ],
      "metadata": {
        "id": "9UmnWfUT8q-S",
        "outputId": "ebc65ebd-d4d3-4616-837c-473e260ba5de",
        "colab": {
          "base_uri": "https://localhost:8080/"
        }
      },
      "execution_count": 8,
      "outputs": [
        {
          "output_type": "execute_result",
          "data": {
            "text/plain": [
              "(-0.5, 511.5, 511.5, -0.5)"
            ]
          },
          "metadata": {},
          "execution_count": 8
        }
      ]
    },
    {
      "cell_type": "code",
      "source": [],
      "metadata": {
        "id": "qV2LxlDy9CPL"
      },
      "execution_count": null,
      "outputs": []
    }
  ]
}